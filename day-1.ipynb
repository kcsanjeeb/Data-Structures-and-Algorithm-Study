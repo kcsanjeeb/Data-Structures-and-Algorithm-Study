{
 "cells": [
  {
   "cell_type": "markdown",
   "id": "ac28676f",
   "metadata": {},
   "source": [
    "## What “dynamic array” means in Python\n",
    "* Random access: lst[i] is O(1).\n",
    "* Automatic growth: append() adds to the end; when the internal storage fills up, Python allocates a larger contiguous block and copies the references over. This resize is occasional.\n",
    "* Amortized cost: append() is amortized O(1) (individual resizes are O(n), but they happen rarely).\n",
    "* Insert/remove (middle): insert(i, x) / pop(i) shift elements ⇒ O(n).\n",
    "* What’s stored: Python lists store references to objects (not the objects inline), so you can mix types."
   ]
  },
  {
   "cell_type": "markdown",
   "id": "b1fc6729",
   "metadata": {},
   "source": [
    "## Basic usage"
   ]
  },
  {
   "cell_type": "code",
   "execution_count": 4,
   "id": "40c92496",
   "metadata": {},
   "outputs": [
    {
     "name": "stdout",
     "output_type": "stream",
     "text": [
      "[4]\n",
      "[1, 2, 3, 5]\n"
     ]
    }
   ],
   "source": [
    "a = []\n",
    "b = [1,2,3]\n",
    "\n",
    "a.append(4)\n",
    "b.append(5)\n",
    "print(a)\n",
    "print(b)"
   ]
  },
  {
   "cell_type": "code",
   "execution_count": 6,
   "id": "e2eedcfa",
   "metadata": {},
   "outputs": [
    {
     "name": "stdout",
     "output_type": "stream",
     "text": [
      "[4, 2, 3, 4, 2, 3, 4]\n"
     ]
    }
   ],
   "source": [
    "a.extend([2,3,4])\n",
    "print(a)"
   ]
  },
  {
   "cell_type": "code",
   "execution_count": 7,
   "id": "936b17a3",
   "metadata": {},
   "outputs": [
    {
     "name": "stdout",
     "output_type": "stream",
     "text": [
      "[4, 2, 3, 4, 2, 3]\n"
     ]
    }
   ],
   "source": [
    "a.pop()                # remove last, O(1) amortized\n",
    "print(a)"
   ]
  },
  {
   "cell_type": "code",
   "execution_count": 8,
   "id": "3a36325a",
   "metadata": {},
   "outputs": [
    {
     "name": "stdout",
     "output_type": "stream",
     "text": [
      "2\n"
     ]
    }
   ],
   "source": [
    "# Random access / update\n",
    "\n",
    "x = b[1]\n",
    "print(x)"
   ]
  },
  {
   "cell_type": "code",
   "execution_count": 9,
   "id": "244318ce",
   "metadata": {},
   "outputs": [
    {
     "name": "stdout",
     "output_type": "stream",
     "text": [
      "[1, 2, 99, 5]\n"
     ]
    }
   ],
   "source": [
    "b[2] = 99 \n",
    "print(b)"
   ]
  },
  {
   "cell_type": "code",
   "execution_count": 11,
   "id": "3c8c6176",
   "metadata": {},
   "outputs": [
    {
     "name": "stdout",
     "output_type": "stream",
     "text": [
      "[1, 44, 2, 99, 5]\n"
     ]
    }
   ],
   "source": [
    "b.insert(1,44)\n",
    "print(b)"
   ]
  },
  {
   "cell_type": "markdown",
   "id": "14834941",
   "metadata": {},
   "source": [
    "# Question 1: Find Pivot Index\n",
    "Given an array of integers nums, calculate the pivot index of this array.\n",
    "\n",
    "The pivot index is the index where the sum of all the numbers strictly to the left of the index is equal to the sum of all the numbers strictly to the index's right. The pivot index is an index i in an array such that: `sum of elements to the left of i == sum of elements to the right of i\n",
    "`\n",
    "\n",
    "Formally: `sum(nums[0 : i]) == sum(nums[i+1 : ])`\n",
    "\n",
    "If such an index exists, we return the leftmost one; otherwise return -1.\n",
    "\n",
    "If the index is on the left edge of the array, then the left sum is 0 because there are no elements to the left. This also applies to the right edge of the array.\n",
    "\n",
    "Return the leftmost pivot index. If no such index exists, return -1.\n",
    "\n",
    "### Example 1:\n",
    "```\n",
    "Input: nums = [1,7,3,6,5,6]\n",
    "Output: 3\n",
    "Explanation:\n",
    "The pivot index is 3.\n",
    "Left sum = nums[0] + nums[1] + nums[2] = 1 + 7 + 3 = 11\n",
    "Right sum = nums[4] + nums[5] = 5 + 6 = 11\n",
    "Example 2:\n",
    "```\n",
    "```\n",
    "Input: nums = [1,2,3]\n",
    "Output: -1\n",
    "Explanation:\n",
    "There is no index that satisfies the conditions in the problem statement.\n",
    "Example 3:\n",
    "```\n",
    "```\n",
    "Input: nums = [2,1,-1]\n",
    "Output: 0\n",
    "Explanation:\n",
    "The pivot index is 0.\n",
    "Left sum = 0 (no elements to the left of index 0)\n",
    "Right sum = nums[1] + nums[2] = 1 + -1 = 0\n",
    "```\n",
    "\n",
    "### Constraints:\n",
    "* 1 <= nums.length <= 104\n",
    "* -1000 <= nums[i] <= 1000\n",
    "\n",
    "\n",
    "### 🧩 2. Example Walkthrough\n",
    "\n",
    "Let’s use nums = [1, 7, 3, 6, 5, 6]\n",
    "\n",
    "| Index | nums[i] | Left elements | Right elements | Left sum | Right sum | Pivot? |\n",
    "| --- | --- | --- | --- | --- | --- | --- |\n",
    "| 0 | 1 | [] | [7,3,6,5,6] | 0 | 27 | ❌ |\n",
    "| 1 | 7 | [1] | [3,6,5,6] | 1 | 20 | ❌ |\n",
    "| 2 | 3 | [1,7] | [6,5,6] | 8 | 17 | ❌ |\n",
    "| 3 | 6 | [1,7,3] | [5,6] | 11 | 11 | ✅ |\n",
    "\n",
    "✅ So pivot index = 3\n",
    "\n",
    "\n",
    "### Step Trace for Example 1\n",
    "\n",
    "`nums = [1, 7, 3, 6, 5, 6]`\n",
    "`total_sum = 28`\n",
    "\n",
    "| i | num | left_sum | right_sum (= total_sum - left_sum - num) | Match? |\n",
    "| --- | --- | --- | --- | --- |\n",
    "| 0 | 1 | 0 | 27 | ❌ |\n",
    "| 1 | 7 | 1 | 20 | ❌ |\n",
    "| 2 | 3 | 8 | 17 | ❌ |\n",
    "| 3 | 6 | 11 | 11 | ✅ Pivot found |"
   ]
  },
  {
   "cell_type": "markdown",
   "id": "ab7fb3b5",
   "metadata": {},
   "source": [
    "## Big O\n",
    "Big O notation classifies algorithm on how their run time or space complexity grows based on input \n",
    "\n",
    "### Best Case, Worst Case, Expected Case \n",
    "* Given an array, find the index of a number \n",
    "* [8,7,6,5,4,3,2,1]\n",
    "* Best Case : First element of an array.\n",
    "    * Only one operation, so O(1)\n",
    "* Worst Case : Last element of an array. \n",
    "    * n operations, O(n), where n is the length of an array \n",
    "* Expected Case : Somewhere in the middle of an array \n",
    "    * n/2 operations, or O(n/2) => o(n) where n is the length of an array. \n",
    "* Need to describe both worst and expected case. Best case is not useful. "
   ]
  },
  {
   "cell_type": "markdown",
   "id": "2e27f2ce",
   "metadata": {},
   "source": [
    "## Space Complexity \n",
    "* Big O can also measure the amount of memory or space required by an algorithm. \n",
    "* Example: \n",
    "    * Given an array of length n as an input \n",
    "    * Algorithm creates another array of length n. \n",
    "    * The space complexity is O(n)\n",
    "    * If the algorithm creates n arrays of length n, the space complexity would be O(n*n) or O(n^2)\n",
    "\n",
    "## Simplify \n",
    "* Big O just describes the rate of increase.\n",
    "* Big O notation tells us how the running time (or work) of an algorithm grows as the input size n increases.\n",
    "* It is possible for O(n) code to run faster than O(1) code !\n",
    "* Therefore, drop the constants \n",
    "    * O(2n) => O(n)\n",
    "    * It doesn’t care about:\n",
    "        * exact constants (like ½),\n",
    "        * small details (like +1),\n",
    "        * or small fixed operations.\n",
    "        * It only looks at the dominant growth pattern as n → very large.\n",
    "\n",
    "\n",
    "or small fixed operations.\n",
    "* Non dominant terms don't matter \n",
    "    * E.g. O(N^2 + N) scales at a rate of N^2 => O(N^2)\n",
    "    * However, O(A + B^2) cannot be simplified without the knowledge of A or B"
   ]
  },
  {
   "cell_type": "markdown",
   "id": "ecfd059a",
   "metadata": {},
   "source": [
    "## 🧩 “Method 1 – Naive Way” actually does"
   ]
  },
  {
   "cell_type": "code",
   "execution_count": null,
   "id": "ad34c51f",
   "metadata": {},
   "outputs": [],
   "source": [
    "def pivotIndex(nums):\n",
    "    for i in range(len(nums)):                    # ① Loop through each index\n",
    "        left_sum = sum(nums[:i])                  # ② Sum all elements to the left\n",
    "        right_sum = sum(nums[i+1:])               # ③ Sum all elements to the right\n",
    "        if left_sum == right_sum:\n",
    "            return i\n",
    "    return -1"
   ]
  },
  {
   "cell_type": "markdown",
   "id": "015ae618",
   "metadata": {},
   "source": [
    "* Step ① — “You loop through n indices”\n",
    "    * This `for i in range(len(nums)):` means we are visiting each index one by one. If the array has n elements, that’s n iterations. So, outer loop runs n times.\n",
    "* Step ② — “For each index, you call sum() twice”\n",
    "    * Inside the loop, for every index i, you have: `left_sum = sum(nums[:i])` , `right_sum = sum(nums[i+1:])`\n",
    "    * ✅ Each sum() must walk through that portion (slice) of the array and add up all its elements.\n",
    "    * That means:\n",
    "        * sum(nums[:i]) touches the i elements to the left.\n",
    "        * sum(nums[i+1:]) touches the (n - i - 1) elements to the right.\n",
    "        * So every single sum() operation takes time proportional to the number of elements it walks through.\n",
    "* Step ③ — “Each sum() must walk through a slice of the list”\n",
    "    * That’s the key — in Python, sum() is not magic. It literally loops through each element to add it up.\n",
    "* Step ④ — “So roughly, the first iteration sums ≈ n elements, the next ≈ n again, and so on.”\n",
    "    * Even though the left and right slice lengths change, together they always add up to roughly n elements.\n",
    "    * `len(left)+len(right)=i+(n−i−1)=n−1`\n",
    "    * So for every index, we’re basically summing almost the whole list (just in two halves).\n",
    "    * So the total work per iteration ≈ n operations (roughly).\n",
    "    * And we’re doing this n times total (for each index).\n",
    "* Step ⑤ — “Total work ≈ n + (n–1) + (n–2) … ≈ n² / 2 → O(n²)”\n",
    "    * Let’s quantify it now 👇\n",
    "        * At index 0: sum() looks at about n elements total\n",
    "        * At index 1: about n – 1 elements total\n",
    "        * At index 2: about n – 2 elements total\n",
    "        * …and so on until index n–1\n",
    "    * So, the total number of elements visited ≈ n+(n−1)+(n−2)+(n−3)+…+2+1\n",
    "    * That’s quadratic growth, or O(n²)."
   ]
  },
  {
   "cell_type": "markdown",
   "id": "91d20f88",
   "metadata": {},
   "source": [
    "## 🧩 Method 2 – Efficient One-Pass Way"
   ]
  },
  {
   "cell_type": "code",
   "execution_count": null,
   "id": "1ea15d18",
   "metadata": {},
   "outputs": [],
   "source": [
    "total_sum = sum(nums)   # one full pass -> O(n)\n",
    "left_sum = 0\n",
    "for i, num in enumerate(nums):  # another full pass -> O(n)\n",
    "    right_sum = total_sum - left_sum - num\n",
    "    if left_sum == right_sum:\n",
    "        return i\n",
    "    left_sum += num"
   ]
  },
  {
   "cell_type": "code",
   "execution_count": null,
   "id": "402fec01",
   "metadata": {},
   "outputs": [],
   "source": [
    "def pivotIndex(nums):\n",
    "    total_sum = sum(nums)   # O(n)\n",
    "    left_sum = 0\n",
    "    for i in range(len(nums)):         # also one pass\n",
    "        x = nums[i]                    # constant-time index access\n",
    "        if left_sum == total_sum - left_sum - x:\n",
    "            return i\n",
    "        left_sum += x\n",
    "    return -1\n"
   ]
  },
  {
   "cell_type": "markdown",
   "id": "48a236eb",
   "metadata": {},
   "source": [
    "### What happens\n",
    "* sum(nums) walks through the array once → n steps.\n",
    "* The for loop also walks through it once → n steps.\n",
    "* Inside the loop, each operation is a few arithmetic additions/subtractions → constant work.\n",
    "* So total ≈ 2 × n → O(n).\n",
    "### Concrete example\n",
    "* If n = 6, maybe 12 basic steps.\n",
    "* If n = 6000, maybe 12 000 steps.\n",
    "* Double the data → double the time —not square it.\n",
    "* That’s the power of a linear algorithm."
   ]
  },
  {
   "cell_type": "markdown",
   "id": "890c38d8",
   "metadata": {},
   "source": [
    "* Step 1 — Compute total_sum = sum(nums)\n",
    "    * Python walks through the entire array once to add up everything.\n",
    "    * This is a single sum() call, so it touches every element exactly once.\n",
    "    * So this step costs O(n) time.\n",
    "* Step 2 — Initialize left_sum = 0\n",
    "    * Just setting a variable → O(1) (constant time).\n",
    "* Step 3 — Loop once through all elements\n",
    "    * runs n times, once for each index.\n",
    "    * Inside that loop, let’s see what happens per iteration:\n",
    "    * Everything inside the loop is a constant-time operation — no sum() calls, no slicing, no scanning through the list. So each loop iteration = O(1) work.\n",
    "    * How many times do we loop?\n",
    "        * Exactly n times (once per element).\n",
    "        * So total loop cost = O(1)+O(1)+O(1)+…(n times)=O(n)\n",
    "        \n",
    "| Operation\t | Example expression\t | Cost per iteration |\n",
    "| --- | --- | --- |\n",
    "| Compute right sum\t | total_sum - left_sum - num\t | O(1) — only 3 arithmetic ops |\n",
    "| Compare\t | if left_sum == right_sum:\t | O(1) |\n",
    "| Update\t | left_sum += num\t | O(1) | \n",
    "\n",
    "   \n"
   ]
  },
  {
   "cell_type": "markdown",
   "id": "082b9a6c",
   "metadata": {},
   "source": [
    "## Why this is “One-Pass”\n",
    "In the naive version, for every index you were re-scanning slices of the list.\n",
    "That’s why it was “n loops inside another n loops” → O(n²).\n",
    "In this efficient method, we only pass through the array once:\n",
    "* First pass (inside sum(nums)) — to compute the total.\n",
    "* Second pass (the loop) — to find the pivot.\n",
    "That’s two straight walks through the array, not nested.\n",
    "Two linear passes still count as O(n) because Big-O ignores constant factors."
   ]
  },
  {
   "cell_type": "markdown",
   "id": "1bae6471",
   "metadata": {},
   "source": [
    "# Question 2 : Largest Number At Least Twice of Others\n",
    "You are given an integer array nums where the largest integer is unique.\n",
    "\n",
    "Determine whether the largest element in the array is at least twice as much as every other number in the array. If it is, return the index of the largest element, or return -1 otherwise.\n",
    "\n",
    "### Example 1:\n",
    "```\n",
    "Input: nums = [3,6,1,0]\n",
    "Output: 1\n",
    "Explanation: 6 is the largest integer.\n",
    "For every other number in the array x, 6 is at least twice as big as x.\n",
    "The index of value 6 is 1, so we return 1.\n",
    "```\n",
    "### Example 2:\n",
    "```\n",
    "Input: nums = [1,2,3,4]\n",
    "Output: -1\n",
    "Explanation: 4 is less than twice the value of 3, so we return -1.\n",
    "```\n",
    "\n",
    "### Constraints:\n",
    "* `2 <= nums.length <= 50`\n",
    "* `0 <= nums[i] <= 100`\n",
    "* The largest element in nums is unique."
   ]
  },
  {
   "cell_type": "code",
   "execution_count": null,
   "id": "75c36ece",
   "metadata": {},
   "outputs": [],
   "source": [
    "class Solution:\n",
    "    def dominantIndex(self, nums: List[int]) -> int:\n",
    "        m = max(nums)\n",
    "        if all(m >= 2*x for x in nums if x != m):\n",
    "            return nums.index(m)\n",
    "        return -1 "
   ]
  },
  {
   "cell_type": "markdown",
   "id": "5d871f2e",
   "metadata": {},
   "source": [
    "# Question 3 : Plus One\n",
    "\n",
    "You are given a large integer represented as an integer array digits, where each digits[i] is the ith digit of the integer. The digits are ordered from most significant to least significant in left-to-right order. The large integer does not contain any leading 0's.\n",
    "\n",
    "Increment the large integer by one and return the resulting array of digits.\n",
    "\n",
    "####  Example 1:\n",
    "```\n",
    "Input: digits = [1,2,3]\n",
    "Output: [1,2,4]\n",
    "Explanation: The array represents the integer 123.\n",
    "Incrementing by one gives 123 + 1 = 124.\n",
    "Thus, the result should be [1,2,4].\n",
    "```\n",
    "#### Example 2:\n",
    "```\n",
    "Input: digits = [4,3,2,1]\n",
    "Output: [4,3,2,2]\n",
    "Explanation: The array represents the integer 4321.\n",
    "Incrementing by one gives 4321 + 1 = 4322.\n",
    "Thus, the result should be [4,3,2,2].\n",
    "```\n",
    "#### Example 3:\n",
    "```\n",
    "Input: digits = [9]\n",
    "Output: [1,0]\n",
    "Explanation: The array represents the integer 9.\n",
    "Incrementing by one gives 9 + 1 = 10.\n",
    "Thus, the result should be [1,0].\n",
    "```"
   ]
  },
  {
   "cell_type": "code",
   "execution_count": null,
   "id": "be4a6ca6",
   "metadata": {},
   "outputs": [],
   "source": [
    "def plusOne(digits):\n",
    "    # Go from rightmost to leftmost\n",
    "    for i in range(len(digits) - 1, -1, -1):\n",
    "        if digits[i] < 9:        # easy case: no carry\n",
    "            digits[i] += 1\n",
    "            return digits\n",
    "        digits[i] = 0            # was 9 → becomes 0, carry continues\n",
    "    # If we got here, all were 9s\n",
    "    return [1] + digits"
   ]
  },
  {
   "cell_type": "code",
   "execution_count": 16,
   "id": "4350deed",
   "metadata": {},
   "outputs": [
    {
     "name": "stdout",
     "output_type": "stream",
     "text": [
      "9\n"
     ]
    }
   ],
   "source": [
    "a = [1,2,3,4,5,6,7,8,9]\n",
    "print(a[len(a)-1])"
   ]
  },
  {
   "cell_type": "markdown",
   "id": "04310d3e",
   "metadata": {},
   "source": [
    "# Question 4 : Diagonal Traverse\n",
    "\n",
    "Given an m x n matrix mat, return an array of all the elements of the array in a diagonal order.\n",
    "#### Example 1:\n",
    "```\n",
    "Input: mat = [[1,2,3],[4,5,6],[7,8,9]]\n",
    "Output: [1,2,4,7,5,3,6,8,9]\n",
    "```\n",
    "#### Example 2:\n",
    "```\n",
    "Input: mat = [[1,2],[3,4]]\n",
    "Output: [1,2,3,4]\n",
    "```\n",
    "\n",
    "#### Constraints:\n",
    "```\n",
    "m == mat.length\n",
    "n == mat[i].length\n",
    "1 <= m, n <= 104\n",
    "1 <= m * n <= 104\n",
    "-105 <= mat[i][j] <= 105\n",
    "```"
   ]
  },
  {
   "cell_type": "code",
   "execution_count": null,
   "id": "67318ae0",
   "metadata": {},
   "outputs": [],
   "source": [
    "class Solution:\n",
    "    def findDiagonalOrder(self, mat: List[List[int]]) -> List[int]:\n",
    "        rows = len(mat)\n",
    "        cols = len(mat[0])\n",
    "        res = []\n",
    "\n",
    "        cur_row = cur_col = 0 \n",
    "        going_up = True\n",
    "\n",
    "        while len(res) != rows*cols : \n",
    "            if going_up : \n",
    "                while cur_row >= 0 and cur_col < cols : \n",
    "                    res.append(mat[cur_row][cur_col])\n",
    "                    cur_col += 1 \n",
    "                    cur_row -= 1\n",
    "                if cur_col == cols : \n",
    "                    cur_col -= 1 \n",
    "                    cur_row += 2\n",
    "                else : \n",
    "                    cur_row += 1 \n",
    "                \n",
    "                going_up = False\n",
    "            else : \n",
    "                while cur_row < rows and cur_col >= 0 : \n",
    "                    res.append(mat[cur_row][cur_col])\n",
    "                    cur_col -= 1 \n",
    "                    cur_row += 1\n",
    "                \n",
    "                if cur_row == rows : \n",
    "                    cur_col += 2 \n",
    "                    cur_row -= 1\n",
    "                else : \n",
    "                    cur_col += 1\n",
    "                \n",
    "                going_up = True \n",
    "        return res\n",
    "                        \n",
    "                        \n",
    "                        \n",
    "                \n",
    "        "
   ]
  }
 ],
 "metadata": {
  "kernelspec": {
   "display_name": "base",
   "language": "python",
   "name": "python3"
  },
  "language_info": {
   "codemirror_mode": {
    "name": "ipython",
    "version": 3
   },
   "file_extension": ".py",
   "mimetype": "text/x-python",
   "name": "python",
   "nbconvert_exporter": "python",
   "pygments_lexer": "ipython3",
   "version": "3.12.7"
  }
 },
 "nbformat": 4,
 "nbformat_minor": 5
}
